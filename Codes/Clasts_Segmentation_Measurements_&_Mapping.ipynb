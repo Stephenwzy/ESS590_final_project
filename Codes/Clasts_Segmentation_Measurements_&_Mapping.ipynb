{
 "cells": [
  {
   "cell_type": "markdown",
   "metadata": {},
   "source": [
    "# Grain Size Quantification and Mapping of Pebbles (Soloy et al. 2020)\n",
    "\n",
    "This code allows the detection and measurement of the non-overlapping clasts visible on scales terrestrial photographs and on georeferenced UAV derived ortho-images, as described by Soloy et al. (2020).\n",
    "\n",
    "The instance segmentation model named Mask R-CNN trained and use for this purpose was first developped by He et al. (2017).\n",
    "The present code is based on the Matterport's implementation (https://github.com/matterport/Mask_RCNN)\n",
    "\n",
    "- Soloy, A.; Turki, I.; Fournier, M.; Costa, S.; Peuziat, B.; Lecoq, N. A Deep Learning-Based Method for Quantifying and Mapping the Grain Size on Pebble Beaches. Remote Sens. 2020, 12, 3659.\n",
    "- He, K.; Gkioxari, G.; Dollar, P.; Girshick, R. Mask R-CNN. In Proceedings of the 2017 IEEE International Conference on Computer Vision (ICCV), Venice, Italy, 22–29 October 2017; pp. 2980–2988."
   ]
  },
  {
   "cell_type": "markdown",
   "metadata": {},
   "source": [
    "## Configurations"
   ]
  },
  {
   "cell_type": "code",
   "execution_count": 15,
   "metadata": {},
   "outputs": [],
   "source": [
    "import os\n",
    "import numpy as np\n",
    "from os import listdir\n",
    "from os.path import isfile, join\n",
    "from functions import clasts_rasterize\n",
    "from functions import clasts_detection\n",
    "import pandas as pd\n",
    "\n",
    "# Root directory of the project\n",
    "RT_DIR = os.getcwd()"
   ]
  },
  {
   "cell_type": "markdown",
   "metadata": {},
   "source": [
    "## Load Paths to data"
   ]
  },
  {
   "cell_type": "code",
   "execution_count": 17,
   "metadata": {},
   "outputs": [],
   "source": [
    "# Paths to directories of images to be measured\n",
    "datadirpath = os.path.join(RT_DIR, \"datasets\")\n",
    "terrestrialdirpath = os.path.join(datadirpath, \"terrestrial\")\n",
    "UAVdirpath = os.path.join(datadirpath, \"UAV\")"
   ]
  },
  {
   "cell_type": "code",
   "execution_count": 12,
   "metadata": {},
   "outputs": [
    {
     "name": "stdout",
     "output_type": "stream",
     "text": [
      "c:\\MLGeo2022_Workspace\\ESS590_final_project\\Codes\\datasets\n",
      "c:\\MLGeo2022_Workspace\\ESS590_final_project\\Codes\\datasets\\terrestrial\n",
      "c:\\MLGeo2022_Workspace\\ESS590_final_project\\Codes\\datasets\\UAV\n"
     ]
    }
   ],
   "source": [
    "print(datadirpath)\n",
    "print(terrestrialdirpath)\n",
    "print(UAVdirpath)"
   ]
  },
  {
   "cell_type": "markdown",
   "metadata": {},
   "source": [
    "## Run Detection & Measurements"
   ]
  },
  {
   "cell_type": "markdown",
   "metadata": {},
   "source": [
    "### On terrestrial scaled photographs"
   ]
  },
  {
   "cell_type": "code",
   "execution_count": 20,
   "metadata": {
    "scrolled": false
   },
   "outputs": [
    {
     "name": "stdout",
     "output_type": "stream",
     "text": [
      "[0] example_n1_of_terrestrial_ortho_image_height=0.84m_width=0.84m_resolution=0.001m_per_px.jpg\n",
      "[1] example_n2_of_terrestrial_ortho_image_height=0.84m_width=0.84m_resolution=0.001m_per_px.jpg\n"
     ]
    }
   ],
   "source": [
    "# List of image files to be analyzed \n",
    "# TO DO: Adapt the file extension to the appropriate type (jpg, tif, png, etc.) or erase the condition from \"&\"\n",
    "\n",
    "filenames = [f for f in listdir(terrestrialdirpath) if isfile(join(terrestrialdirpath, f)) & (f[-4:]=='.jpg')]\n",
    "numboffiles=np.shape(filenames)\n",
    "\n",
    "for i in range(0, numboffiles[0]):\n",
    "    print('['+str(i)+'] '+filenames[i])"
   ]
  },
  {
   "cell_type": "code",
   "execution_count": 21,
   "metadata": {
    "scrolled": false
   },
   "outputs": [
    {
     "name": "stdout",
     "output_type": "stream",
     "text": [
      "Loading weights  c:\\MLGeo2022_Workspace\\ESS590_final_project\\Codes\\model_weights\\mask_rcnn_clasts.h5\n"
     ]
    },
    {
     "ename": "ResourceExhaustedError",
     "evalue": "OOM when allocating tensor with shape[7,7,256,1024]\n\t [[Node: mrcnn1_class_conv1_6/random_uniform/RandomUniform = RandomUniform[T=DT_INT32, dtype=DT_FLOAT, seed=87654321, seed2=1268448, _device=\"/job:localhost/replica:0/task:0/cpu:0\"](mrcnn1_class_conv1_6/random_uniform/shape)]]\n\nCaused by op 'mrcnn1_class_conv1_6/random_uniform/RandomUniform', defined at:\n  File \"d:\\Anaconda\\envs\\CSM\\lib\\runpy.py\", line 193, in _run_module_as_main\n    \"__main__\", mod_spec)\n  File \"d:\\Anaconda\\envs\\CSM\\lib\\runpy.py\", line 85, in _run_code\n    exec(code, run_globals)\n  File \"d:\\Anaconda\\envs\\CSM\\lib\\site-packages\\ipykernel_launcher.py\", line 16, in <module>\n    app.launch_new_instance()\n  File \"d:\\Anaconda\\envs\\CSM\\lib\\site-packages\\traitlets\\config\\application.py\", line 664, in launch_instance\n    app.start()\n  File \"d:\\Anaconda\\envs\\CSM\\lib\\site-packages\\ipykernel\\kernelapp.py\", line 619, in start\n    self.io_loop.start()\n  File \"d:\\Anaconda\\envs\\CSM\\lib\\site-packages\\tornado\\platform\\asyncio.py\", line 199, in start\n    self.asyncio_loop.run_forever()\n  File \"d:\\Anaconda\\envs\\CSM\\lib\\asyncio\\base_events.py\", line 442, in run_forever\n    self._run_once()\n  File \"d:\\Anaconda\\envs\\CSM\\lib\\asyncio\\base_events.py\", line 1462, in _run_once\n    handle._run()\n  File \"d:\\Anaconda\\envs\\CSM\\lib\\asyncio\\events.py\", line 145, in _run\n    self._callback(*self._args)\n  File \"d:\\Anaconda\\envs\\CSM\\lib\\site-packages\\tornado\\ioloop.py\", line 688, in <lambda>\n    lambda f: self._run_callback(functools.partial(callback, future))\n  File \"d:\\Anaconda\\envs\\CSM\\lib\\site-packages\\tornado\\ioloop.py\", line 741, in _run_callback\n    ret = callback()\n  File \"d:\\Anaconda\\envs\\CSM\\lib\\site-packages\\tornado\\gen.py\", line 814, in inner\n    self.ctx_run(self.run)\n  File \"d:\\Anaconda\\envs\\CSM\\lib\\site-packages\\tornado\\gen.py\", line 162, in _fake_ctx_run\n    return f(*args, **kw)\n  File \"d:\\Anaconda\\envs\\CSM\\lib\\site-packages\\tornado\\gen.py\", line 775, in run\n    yielded = self.gen.send(value)\n  File \"d:\\Anaconda\\envs\\CSM\\lib\\site-packages\\ipykernel\\kernelbase.py\", line 361, in process_one\n    yield gen.maybe_future(dispatch(*args))\n  File \"d:\\Anaconda\\envs\\CSM\\lib\\site-packages\\tornado\\gen.py\", line 234, in wrapper\n    yielded = ctx_run(next, result)\n  File \"d:\\Anaconda\\envs\\CSM\\lib\\site-packages\\tornado\\gen.py\", line 162, in _fake_ctx_run\n    return f(*args, **kw)\n  File \"d:\\Anaconda\\envs\\CSM\\lib\\site-packages\\ipykernel\\kernelbase.py\", line 261, in dispatch_shell\n    yield gen.maybe_future(handler(stream, idents, msg))\n  File \"d:\\Anaconda\\envs\\CSM\\lib\\site-packages\\tornado\\gen.py\", line 234, in wrapper\n    yielded = ctx_run(next, result)\n  File \"d:\\Anaconda\\envs\\CSM\\lib\\site-packages\\tornado\\gen.py\", line 162, in _fake_ctx_run\n    return f(*args, **kw)\n  File \"d:\\Anaconda\\envs\\CSM\\lib\\site-packages\\ipykernel\\kernelbase.py\", line 541, in execute_request\n    user_expressions, allow_stdin,\n  File \"d:\\Anaconda\\envs\\CSM\\lib\\site-packages\\tornado\\gen.py\", line 234, in wrapper\n    yielded = ctx_run(next, result)\n  File \"d:\\Anaconda\\envs\\CSM\\lib\\site-packages\\tornado\\gen.py\", line 162, in _fake_ctx_run\n    return f(*args, **kw)\n  File \"d:\\Anaconda\\envs\\CSM\\lib\\site-packages\\ipykernel\\ipkernel.py\", line 302, in do_execute\n    res = shell.run_cell(code, store_history=store_history, silent=silent)\n  File \"d:\\Anaconda\\envs\\CSM\\lib\\site-packages\\ipykernel\\zmqshell.py\", line 539, in run_cell\n    return super(ZMQInteractiveShell, self).run_cell(*args, **kwargs)\n  File \"d:\\Anaconda\\envs\\CSM\\lib\\site-packages\\IPython\\core\\interactiveshell.py\", line 2855, in run_cell\n    raw_cell, store_history, silent, shell_futures)\n  File \"d:\\Anaconda\\envs\\CSM\\lib\\site-packages\\IPython\\core\\interactiveshell.py\", line 2881, in _run_cell\n    return runner(coro)\n  File \"d:\\Anaconda\\envs\\CSM\\lib\\site-packages\\IPython\\core\\async_helpers.py\", line 68, in _pseudo_sync_runner\n    coro.send(None)\n  File \"d:\\Anaconda\\envs\\CSM\\lib\\site-packages\\IPython\\core\\interactiveshell.py\", line 3058, in run_cell_async\n    interactivity=interactivity, compiler=compiler, result=result)\n  File \"d:\\Anaconda\\envs\\CSM\\lib\\site-packages\\IPython\\core\\interactiveshell.py\", line 3249, in run_ast_nodes\n    if (await self.run_code(code, result,  async_=asy)):\n  File \"d:\\Anaconda\\envs\\CSM\\lib\\site-packages\\IPython\\core\\interactiveshell.py\", line 3326, in run_code\n    exec(code_obj, self.user_global_ns, self.user_ns)\n  File \"<ipython-input-21-2970a0f7dcd2>\", line 11, in <module>\n    clasts = clasts_detection.clasts_detect(mode = mode, resolution = resolution, imgpath = imgpath, plot = False, saveplot = False, saveresults = False)\n  File \"c:\\MLGeo2022_Workspace\\ESS590_final_project\\Codes\\functions\\clasts_detection.py\", line 74, in clasts_detect\n    config=config)\n  File \"c:\\MLGeo2022_Workspace\\ESS590_final_project\\Codes\\mrcnn\\model.py\", line 2263, in __init__\n    self.keras_model = self.build(mode=mode, config=config)\n  File \"c:\\MLGeo2022_Workspace\\ESS590_final_project\\Codes\\mrcnn\\model.py\", line 2513, in build\n    fc_layers_size=config.FPN_CLASSIF_FC_LAYERS_SIZE)\n  File \"c:\\MLGeo2022_Workspace\\ESS590_final_project\\Codes\\mrcnn\\model.py\", line 1257, in fpn_classifier_graph1\n    name=\"mrcnn1_class_conv1\")(x)\n  File \"d:\\Anaconda\\envs\\CSM\\lib\\site-packages\\keras\\engine\\topology.py\", line 575, in __call__\n    self.build(input_shapes[0])\n  File \"d:\\Anaconda\\envs\\CSM\\lib\\site-packages\\keras\\layers\\wrappers.py\", line 158, in build\n    self.layer.build(child_input_shape)\n  File \"d:\\Anaconda\\envs\\CSM\\lib\\site-packages\\keras\\layers\\convolutional.py\", line 134, in build\n    constraint=self.kernel_constraint)\n  File \"d:\\Anaconda\\envs\\CSM\\lib\\site-packages\\keras\\legacy\\interfaces.py\", line 87, in wrapper\n    return func(*args, **kwargs)\n  File \"d:\\Anaconda\\envs\\CSM\\lib\\site-packages\\keras\\engine\\topology.py\", line 396, in add_weight\n    weight = K.variable(initializer(shape),\n  File \"d:\\Anaconda\\envs\\CSM\\lib\\site-packages\\keras\\initializers.py\", line 212, in __call__\n    dtype=dtype, seed=self.seed)\n  File \"d:\\Anaconda\\envs\\CSM\\lib\\site-packages\\keras\\backend\\tensorflow_backend.py\", line 3544, in random_uniform\n    dtype=dtype, seed=seed)\n  File \"d:\\Anaconda\\envs\\CSM\\lib\\site-packages\\tensorflow\\python\\ops\\random_ops.py\", line 240, in random_uniform\n    shape, dtype, seed=seed1, seed2=seed2)\n  File \"d:\\Anaconda\\envs\\CSM\\lib\\site-packages\\tensorflow\\python\\ops\\gen_random_ops.py\", line 247, in _random_uniform\n    seed=seed, seed2=seed2, name=name)\n  File \"d:\\Anaconda\\envs\\CSM\\lib\\site-packages\\tensorflow\\python\\framework\\op_def_library.py\", line 767, in apply_op\n    op_def=op_def)\n  File \"d:\\Anaconda\\envs\\CSM\\lib\\site-packages\\tensorflow\\python\\framework\\ops.py\", line 2630, in create_op\n    original_op=self._default_original_op, op_def=op_def)\n  File \"d:\\Anaconda\\envs\\CSM\\lib\\site-packages\\tensorflow\\python\\framework\\ops.py\", line 1204, in __init__\n    self._traceback = self._graph._extract_stack()  # pylint: disable=protected-access\n\nResourceExhaustedError (see above for traceback): OOM when allocating tensor with shape[7,7,256,1024]\n\t [[Node: mrcnn1_class_conv1_6/random_uniform/RandomUniform = RandomUniform[T=DT_INT32, dtype=DT_FLOAT, seed=87654321, seed2=1268448, _device=\"/job:localhost/replica:0/task:0/cpu:0\"](mrcnn1_class_conv1_6/random_uniform/shape)]]\n",
     "output_type": "error",
     "traceback": [
      "\u001b[1;31m---------------------------------------------------------------------------\u001b[0m",
      "\u001b[1;31mResourceExhaustedError\u001b[0m                    Traceback (most recent call last)",
      "\u001b[1;32md:\\Anaconda\\envs\\CSM\\lib\\site-packages\\tensorflow\\python\\client\\session.py\u001b[0m in \u001b[0;36m_do_call\u001b[1;34m(self, fn, *args)\u001b[0m\n\u001b[0;32m   1326\u001b[0m     \u001b[1;32mtry\u001b[0m\u001b[1;33m:\u001b[0m\u001b[1;33m\u001b[0m\u001b[1;33m\u001b[0m\u001b[0m\n\u001b[1;32m-> 1327\u001b[1;33m       \u001b[1;32mreturn\u001b[0m \u001b[0mfn\u001b[0m\u001b[1;33m(\u001b[0m\u001b[1;33m*\u001b[0m\u001b[0margs\u001b[0m\u001b[1;33m)\u001b[0m\u001b[1;33m\u001b[0m\u001b[1;33m\u001b[0m\u001b[0m\n\u001b[0m\u001b[0;32m   1328\u001b[0m     \u001b[1;32mexcept\u001b[0m \u001b[0merrors\u001b[0m\u001b[1;33m.\u001b[0m\u001b[0mOpError\u001b[0m \u001b[1;32mas\u001b[0m \u001b[0me\u001b[0m\u001b[1;33m:\u001b[0m\u001b[1;33m\u001b[0m\u001b[1;33m\u001b[0m\u001b[0m\n",
      "\u001b[1;32md:\\Anaconda\\envs\\CSM\\lib\\site-packages\\tensorflow\\python\\client\\session.py\u001b[0m in \u001b[0;36m_run_fn\u001b[1;34m(session, feed_dict, fetch_list, target_list, options, run_metadata)\u001b[0m\n\u001b[0;32m   1305\u001b[0m                                    \u001b[0mfeed_dict\u001b[0m\u001b[1;33m,\u001b[0m \u001b[0mfetch_list\u001b[0m\u001b[1;33m,\u001b[0m \u001b[0mtarget_list\u001b[0m\u001b[1;33m,\u001b[0m\u001b[1;33m\u001b[0m\u001b[1;33m\u001b[0m\u001b[0m\n\u001b[1;32m-> 1306\u001b[1;33m                                    status, run_metadata)\n\u001b[0m\u001b[0;32m   1307\u001b[0m \u001b[1;33m\u001b[0m\u001b[0m\n",
      "\u001b[1;32md:\\Anaconda\\envs\\CSM\\lib\\contextlib.py\u001b[0m in \u001b[0;36m__exit__\u001b[1;34m(self, type, value, traceback)\u001b[0m\n\u001b[0;32m     87\u001b[0m             \u001b[1;32mtry\u001b[0m\u001b[1;33m:\u001b[0m\u001b[1;33m\u001b[0m\u001b[1;33m\u001b[0m\u001b[0m\n\u001b[1;32m---> 88\u001b[1;33m                 \u001b[0mnext\u001b[0m\u001b[1;33m(\u001b[0m\u001b[0mself\u001b[0m\u001b[1;33m.\u001b[0m\u001b[0mgen\u001b[0m\u001b[1;33m)\u001b[0m\u001b[1;33m\u001b[0m\u001b[1;33m\u001b[0m\u001b[0m\n\u001b[0m\u001b[0;32m     89\u001b[0m             \u001b[1;32mexcept\u001b[0m \u001b[0mStopIteration\u001b[0m\u001b[1;33m:\u001b[0m\u001b[1;33m\u001b[0m\u001b[1;33m\u001b[0m\u001b[0m\n",
      "\u001b[1;32md:\\Anaconda\\envs\\CSM\\lib\\site-packages\\tensorflow\\python\\framework\\errors_impl.py\u001b[0m in \u001b[0;36mraise_exception_on_not_ok_status\u001b[1;34m()\u001b[0m\n\u001b[0;32m    465\u001b[0m           \u001b[0mcompat\u001b[0m\u001b[1;33m.\u001b[0m\u001b[0mas_text\u001b[0m\u001b[1;33m(\u001b[0m\u001b[0mpywrap_tensorflow\u001b[0m\u001b[1;33m.\u001b[0m\u001b[0mTF_Message\u001b[0m\u001b[1;33m(\u001b[0m\u001b[0mstatus\u001b[0m\u001b[1;33m)\u001b[0m\u001b[1;33m)\u001b[0m\u001b[1;33m,\u001b[0m\u001b[1;33m\u001b[0m\u001b[1;33m\u001b[0m\u001b[0m\n\u001b[1;32m--> 466\u001b[1;33m           pywrap_tensorflow.TF_GetCode(status))\n\u001b[0m\u001b[0;32m    467\u001b[0m   \u001b[1;32mfinally\u001b[0m\u001b[1;33m:\u001b[0m\u001b[1;33m\u001b[0m\u001b[1;33m\u001b[0m\u001b[0m\n",
      "\u001b[1;31mResourceExhaustedError\u001b[0m: OOM when allocating tensor with shape[7,7,256,1024]\n\t [[Node: mrcnn1_class_conv1_6/random_uniform/RandomUniform = RandomUniform[T=DT_INT32, dtype=DT_FLOAT, seed=87654321, seed2=1268448, _device=\"/job:localhost/replica:0/task:0/cpu:0\"](mrcnn1_class_conv1_6/random_uniform/shape)]]",
      "\nDuring handling of the above exception, another exception occurred:\n",
      "\u001b[1;31mResourceExhaustedError\u001b[0m                    Traceback (most recent call last)",
      "\u001b[1;32m<ipython-input-21-2970a0f7dcd2>\u001b[0m in \u001b[0;36m<module>\u001b[1;34m\u001b[0m\n\u001b[0;32m      9\u001b[0m \u001b[1;32mfor\u001b[0m \u001b[0mi\u001b[0m \u001b[1;32min\u001b[0m \u001b[0mrange\u001b[0m\u001b[1;33m(\u001b[0m\u001b[1;36m0\u001b[0m\u001b[1;33m,\u001b[0m \u001b[0mnumboffiles\u001b[0m\u001b[1;33m[\u001b[0m\u001b[1;36m0\u001b[0m\u001b[1;33m]\u001b[0m\u001b[1;33m)\u001b[0m\u001b[1;33m:\u001b[0m\u001b[1;33m\u001b[0m\u001b[1;33m\u001b[0m\u001b[0m\n\u001b[0;32m     10\u001b[0m     \u001b[0mimgpath\u001b[0m\u001b[1;33m=\u001b[0m\u001b[0mos\u001b[0m\u001b[1;33m.\u001b[0m\u001b[0mpath\u001b[0m\u001b[1;33m.\u001b[0m\u001b[0mjoin\u001b[0m\u001b[1;33m(\u001b[0m\u001b[0mterrestrialdirpath\u001b[0m\u001b[1;33m,\u001b[0m\u001b[0mfilenames\u001b[0m\u001b[1;33m[\u001b[0m\u001b[0mi\u001b[0m\u001b[1;33m]\u001b[0m\u001b[1;33m)\u001b[0m\u001b[1;33m\u001b[0m\u001b[1;33m\u001b[0m\u001b[0m\n\u001b[1;32m---> 11\u001b[1;33m     \u001b[0mclasts\u001b[0m \u001b[1;33m=\u001b[0m \u001b[0mclasts_detection\u001b[0m\u001b[1;33m.\u001b[0m\u001b[0mclasts_detect\u001b[0m\u001b[1;33m(\u001b[0m\u001b[0mmode\u001b[0m \u001b[1;33m=\u001b[0m \u001b[0mmode\u001b[0m\u001b[1;33m,\u001b[0m \u001b[0mresolution\u001b[0m \u001b[1;33m=\u001b[0m \u001b[0mresolution\u001b[0m\u001b[1;33m,\u001b[0m \u001b[0mimgpath\u001b[0m \u001b[1;33m=\u001b[0m \u001b[0mimgpath\u001b[0m\u001b[1;33m,\u001b[0m \u001b[0mplot\u001b[0m \u001b[1;33m=\u001b[0m \u001b[1;32mFalse\u001b[0m\u001b[1;33m,\u001b[0m \u001b[0msaveplot\u001b[0m \u001b[1;33m=\u001b[0m \u001b[1;32mFalse\u001b[0m\u001b[1;33m,\u001b[0m \u001b[0msaveresults\u001b[0m \u001b[1;33m=\u001b[0m \u001b[1;32mFalse\u001b[0m\u001b[1;33m)\u001b[0m\u001b[1;33m\u001b[0m\u001b[1;33m\u001b[0m\u001b[0m\n\u001b[0m\u001b[0;32m     12\u001b[0m \u001b[1;33m\u001b[0m\u001b[0m\n\u001b[0;32m     13\u001b[0m \u001b[1;31m# Detects and measure the clasts on a scaled image that can be either terrestrial (i.e. photograph of known resolution) or UAV derived (georeferenced ortho-image)\u001b[0m\u001b[1;33m\u001b[0m\u001b[1;33m\u001b[0m\u001b[1;33m\u001b[0m\u001b[0m\n",
      "\u001b[1;32mc:\\MLGeo2022_Workspace\\ESS590_final_project\\Codes\\functions\\clasts_detection.py\u001b[0m in \u001b[0;36mclasts_detect\u001b[1;34m(mode, imgpath, resolution, metric_cropsize, plot, saveplot, saveresults, devicemode, devicenumber, kstart, ksaveint)\u001b[0m\n\u001b[0;32m     79\u001b[0m     \u001b[1;31m# Load weights\u001b[0m\u001b[1;33m\u001b[0m\u001b[1;33m\u001b[0m\u001b[1;33m\u001b[0m\u001b[0m\n\u001b[0;32m     80\u001b[0m     \u001b[0mprint\u001b[0m\u001b[1;33m(\u001b[0m\u001b[1;34m\"Loading weights \"\u001b[0m\u001b[1;33m,\u001b[0m \u001b[0mweights_path\u001b[0m\u001b[1;33m)\u001b[0m\u001b[1;33m\u001b[0m\u001b[1;33m\u001b[0m\u001b[0m\n\u001b[1;32m---> 81\u001b[1;33m     \u001b[0mmodel\u001b[0m\u001b[1;33m.\u001b[0m\u001b[0mload_weights\u001b[0m\u001b[1;33m(\u001b[0m\u001b[0mweights_path\u001b[0m\u001b[1;33m,\u001b[0m \u001b[0mby_name\u001b[0m\u001b[1;33m=\u001b[0m\u001b[1;32mTrue\u001b[0m\u001b[1;33m)\u001b[0m\u001b[1;33m\u001b[0m\u001b[1;33m\u001b[0m\u001b[0m\n\u001b[0m\u001b[0;32m     82\u001b[0m \u001b[1;33m\u001b[0m\u001b[0m\n\u001b[0;32m     83\u001b[0m     \u001b[1;31m# Segmentation & Measurement bloc\u001b[0m\u001b[1;33m\u001b[0m\u001b[1;33m\u001b[0m\u001b[1;33m\u001b[0m\u001b[0m\n",
      "\u001b[1;32mc:\\MLGeo2022_Workspace\\ESS590_final_project\\Codes\\mrcnn\\model.py\u001b[0m in \u001b[0;36mload_weights\u001b[1;34m(self, filepath, by_name, exclude)\u001b[0m\n\u001b[0;32m   2639\u001b[0m \u001b[1;33m\u001b[0m\u001b[0m\n\u001b[0;32m   2640\u001b[0m         \u001b[1;32mif\u001b[0m \u001b[0mby_name\u001b[0m\u001b[1;33m:\u001b[0m\u001b[1;33m\u001b[0m\u001b[1;33m\u001b[0m\u001b[0m\n\u001b[1;32m-> 2641\u001b[1;33m             \u001b[0msaving\u001b[0m\u001b[1;33m.\u001b[0m\u001b[0mload_weights_from_hdf5_group_by_name\u001b[0m\u001b[1;33m(\u001b[0m\u001b[0mf\u001b[0m\u001b[1;33m,\u001b[0m \u001b[0mlayers\u001b[0m\u001b[1;33m)\u001b[0m\u001b[1;33m\u001b[0m\u001b[1;33m\u001b[0m\u001b[0m\n\u001b[0m\u001b[0;32m   2642\u001b[0m         \u001b[1;32melse\u001b[0m\u001b[1;33m:\u001b[0m\u001b[1;33m\u001b[0m\u001b[1;33m\u001b[0m\u001b[0m\n\u001b[0;32m   2643\u001b[0m             \u001b[0msaving\u001b[0m\u001b[1;33m.\u001b[0m\u001b[0mload_weights_from_hdf5_group\u001b[0m\u001b[1;33m(\u001b[0m\u001b[0mf\u001b[0m\u001b[1;33m,\u001b[0m \u001b[0mlayers\u001b[0m\u001b[1;33m)\u001b[0m\u001b[1;33m\u001b[0m\u001b[1;33m\u001b[0m\u001b[0m\n",
      "\u001b[1;32md:\\Anaconda\\envs\\CSM\\lib\\site-packages\\keras\\engine\\topology.py\u001b[0m in \u001b[0;36mload_weights_from_hdf5_group_by_name\u001b[1;34m(f, layers)\u001b[0m\n\u001b[0;32m   3156\u001b[0m                 weight_value_tuples.append((symbolic_weights[i],\n\u001b[0;32m   3157\u001b[0m                                             weight_values[i]))\n\u001b[1;32m-> 3158\u001b[1;33m     \u001b[0mK\u001b[0m\u001b[1;33m.\u001b[0m\u001b[0mbatch_set_value\u001b[0m\u001b[1;33m(\u001b[0m\u001b[0mweight_value_tuples\u001b[0m\u001b[1;33m)\u001b[0m\u001b[1;33m\u001b[0m\u001b[1;33m\u001b[0m\u001b[0m\n\u001b[0m",
      "\u001b[1;32md:\\Anaconda\\envs\\CSM\\lib\\site-packages\\keras\\backend\\tensorflow_backend.py\u001b[0m in \u001b[0;36mbatch_set_value\u001b[1;34m(tuples)\u001b[0m\n\u001b[0;32m   2191\u001b[0m             \u001b[0massign_ops\u001b[0m\u001b[1;33m.\u001b[0m\u001b[0mappend\u001b[0m\u001b[1;33m(\u001b[0m\u001b[0massign_op\u001b[0m\u001b[1;33m)\u001b[0m\u001b[1;33m\u001b[0m\u001b[1;33m\u001b[0m\u001b[0m\n\u001b[0;32m   2192\u001b[0m             \u001b[0mfeed_dict\u001b[0m\u001b[1;33m[\u001b[0m\u001b[0massign_placeholder\u001b[0m\u001b[1;33m]\u001b[0m \u001b[1;33m=\u001b[0m \u001b[0mvalue\u001b[0m\u001b[1;33m\u001b[0m\u001b[1;33m\u001b[0m\u001b[0m\n\u001b[1;32m-> 2193\u001b[1;33m         \u001b[0mget_session\u001b[0m\u001b[1;33m(\u001b[0m\u001b[1;33m)\u001b[0m\u001b[1;33m.\u001b[0m\u001b[0mrun\u001b[0m\u001b[1;33m(\u001b[0m\u001b[0massign_ops\u001b[0m\u001b[1;33m,\u001b[0m \u001b[0mfeed_dict\u001b[0m\u001b[1;33m=\u001b[0m\u001b[0mfeed_dict\u001b[0m\u001b[1;33m)\u001b[0m\u001b[1;33m\u001b[0m\u001b[1;33m\u001b[0m\u001b[0m\n\u001b[0m\u001b[0;32m   2194\u001b[0m \u001b[1;33m\u001b[0m\u001b[0m\n\u001b[0;32m   2195\u001b[0m \u001b[1;33m\u001b[0m\u001b[0m\n",
      "\u001b[1;32md:\\Anaconda\\envs\\CSM\\lib\\site-packages\\keras\\backend\\tensorflow_backend.py\u001b[0m in \u001b[0;36mget_session\u001b[1;34m()\u001b[0m\n\u001b[0;32m    165\u001b[0m     \u001b[1;32mif\u001b[0m \u001b[1;32mnot\u001b[0m \u001b[0m_MANUAL_VAR_INIT\u001b[0m\u001b[1;33m:\u001b[0m\u001b[1;33m\u001b[0m\u001b[1;33m\u001b[0m\u001b[0m\n\u001b[0;32m    166\u001b[0m         \u001b[1;32mwith\u001b[0m \u001b[0msession\u001b[0m\u001b[1;33m.\u001b[0m\u001b[0mgraph\u001b[0m\u001b[1;33m.\u001b[0m\u001b[0mas_default\u001b[0m\u001b[1;33m(\u001b[0m\u001b[1;33m)\u001b[0m\u001b[1;33m:\u001b[0m\u001b[1;33m\u001b[0m\u001b[1;33m\u001b[0m\u001b[0m\n\u001b[1;32m--> 167\u001b[1;33m             \u001b[0m_initialize_variables\u001b[0m\u001b[1;33m(\u001b[0m\u001b[1;33m)\u001b[0m\u001b[1;33m\u001b[0m\u001b[1;33m\u001b[0m\u001b[0m\n\u001b[0m\u001b[0;32m    168\u001b[0m     \u001b[1;32mreturn\u001b[0m \u001b[0msession\u001b[0m\u001b[1;33m\u001b[0m\u001b[1;33m\u001b[0m\u001b[0m\n\u001b[0;32m    169\u001b[0m \u001b[1;33m\u001b[0m\u001b[0m\n",
      "\u001b[1;32md:\\Anaconda\\envs\\CSM\\lib\\site-packages\\keras\\backend\\tensorflow_backend.py\u001b[0m in \u001b[0;36m_initialize_variables\u001b[1;34m()\u001b[0m\n\u001b[0;32m    339\u001b[0m     \u001b[1;32mif\u001b[0m \u001b[0muninitialized_variables\u001b[0m\u001b[1;33m:\u001b[0m\u001b[1;33m\u001b[0m\u001b[1;33m\u001b[0m\u001b[0m\n\u001b[0;32m    340\u001b[0m         \u001b[0msess\u001b[0m \u001b[1;33m=\u001b[0m \u001b[0mget_session\u001b[0m\u001b[1;33m(\u001b[0m\u001b[1;33m)\u001b[0m\u001b[1;33m\u001b[0m\u001b[1;33m\u001b[0m\u001b[0m\n\u001b[1;32m--> 341\u001b[1;33m         \u001b[0msess\u001b[0m\u001b[1;33m.\u001b[0m\u001b[0mrun\u001b[0m\u001b[1;33m(\u001b[0m\u001b[0mtf\u001b[0m\u001b[1;33m.\u001b[0m\u001b[0mvariables_initializer\u001b[0m\u001b[1;33m(\u001b[0m\u001b[0muninitialized_variables\u001b[0m\u001b[1;33m)\u001b[0m\u001b[1;33m)\u001b[0m\u001b[1;33m\u001b[0m\u001b[1;33m\u001b[0m\u001b[0m\n\u001b[0m\u001b[0;32m    342\u001b[0m \u001b[1;33m\u001b[0m\u001b[0m\n\u001b[0;32m    343\u001b[0m \u001b[1;33m\u001b[0m\u001b[0m\n",
      "\u001b[1;32md:\\Anaconda\\envs\\CSM\\lib\\site-packages\\tensorflow\\python\\client\\session.py\u001b[0m in \u001b[0;36mrun\u001b[1;34m(self, fetches, feed_dict, options, run_metadata)\u001b[0m\n\u001b[0;32m    893\u001b[0m     \u001b[1;32mtry\u001b[0m\u001b[1;33m:\u001b[0m\u001b[1;33m\u001b[0m\u001b[1;33m\u001b[0m\u001b[0m\n\u001b[0;32m    894\u001b[0m       result = self._run(None, fetches, feed_dict, options_ptr,\n\u001b[1;32m--> 895\u001b[1;33m                          run_metadata_ptr)\n\u001b[0m\u001b[0;32m    896\u001b[0m       \u001b[1;32mif\u001b[0m \u001b[0mrun_metadata\u001b[0m\u001b[1;33m:\u001b[0m\u001b[1;33m\u001b[0m\u001b[1;33m\u001b[0m\u001b[0m\n\u001b[0;32m    897\u001b[0m         \u001b[0mproto_data\u001b[0m \u001b[1;33m=\u001b[0m \u001b[0mtf_session\u001b[0m\u001b[1;33m.\u001b[0m\u001b[0mTF_GetBuffer\u001b[0m\u001b[1;33m(\u001b[0m\u001b[0mrun_metadata_ptr\u001b[0m\u001b[1;33m)\u001b[0m\u001b[1;33m\u001b[0m\u001b[1;33m\u001b[0m\u001b[0m\n",
      "\u001b[1;32md:\\Anaconda\\envs\\CSM\\lib\\site-packages\\tensorflow\\python\\client\\session.py\u001b[0m in \u001b[0;36m_run\u001b[1;34m(self, handle, fetches, feed_dict, options, run_metadata)\u001b[0m\n\u001b[0;32m   1122\u001b[0m     \u001b[1;32mif\u001b[0m \u001b[0mfinal_fetches\u001b[0m \u001b[1;32mor\u001b[0m \u001b[0mfinal_targets\u001b[0m \u001b[1;32mor\u001b[0m \u001b[1;33m(\u001b[0m\u001b[0mhandle\u001b[0m \u001b[1;32mand\u001b[0m \u001b[0mfeed_dict_tensor\u001b[0m\u001b[1;33m)\u001b[0m\u001b[1;33m:\u001b[0m\u001b[1;33m\u001b[0m\u001b[1;33m\u001b[0m\u001b[0m\n\u001b[0;32m   1123\u001b[0m       results = self._do_run(handle, final_targets, final_fetches,\n\u001b[1;32m-> 1124\u001b[1;33m                              feed_dict_tensor, options, run_metadata)\n\u001b[0m\u001b[0;32m   1125\u001b[0m     \u001b[1;32melse\u001b[0m\u001b[1;33m:\u001b[0m\u001b[1;33m\u001b[0m\u001b[1;33m\u001b[0m\u001b[0m\n\u001b[0;32m   1126\u001b[0m       \u001b[0mresults\u001b[0m \u001b[1;33m=\u001b[0m \u001b[1;33m[\u001b[0m\u001b[1;33m]\u001b[0m\u001b[1;33m\u001b[0m\u001b[1;33m\u001b[0m\u001b[0m\n",
      "\u001b[1;32md:\\Anaconda\\envs\\CSM\\lib\\site-packages\\tensorflow\\python\\client\\session.py\u001b[0m in \u001b[0;36m_do_run\u001b[1;34m(self, handle, target_list, fetch_list, feed_dict, options, run_metadata)\u001b[0m\n\u001b[0;32m   1319\u001b[0m     \u001b[1;32mif\u001b[0m \u001b[0mhandle\u001b[0m \u001b[1;32mis\u001b[0m \u001b[1;32mNone\u001b[0m\u001b[1;33m:\u001b[0m\u001b[1;33m\u001b[0m\u001b[1;33m\u001b[0m\u001b[0m\n\u001b[0;32m   1320\u001b[0m       return self._do_call(_run_fn, self._session, feeds, fetches, targets,\n\u001b[1;32m-> 1321\u001b[1;33m                            options, run_metadata)\n\u001b[0m\u001b[0;32m   1322\u001b[0m     \u001b[1;32melse\u001b[0m\u001b[1;33m:\u001b[0m\u001b[1;33m\u001b[0m\u001b[1;33m\u001b[0m\u001b[0m\n\u001b[0;32m   1323\u001b[0m       \u001b[1;32mreturn\u001b[0m \u001b[0mself\u001b[0m\u001b[1;33m.\u001b[0m\u001b[0m_do_call\u001b[0m\u001b[1;33m(\u001b[0m\u001b[0m_prun_fn\u001b[0m\u001b[1;33m,\u001b[0m \u001b[0mself\u001b[0m\u001b[1;33m.\u001b[0m\u001b[0m_session\u001b[0m\u001b[1;33m,\u001b[0m \u001b[0mhandle\u001b[0m\u001b[1;33m,\u001b[0m \u001b[0mfeeds\u001b[0m\u001b[1;33m,\u001b[0m \u001b[0mfetches\u001b[0m\u001b[1;33m)\u001b[0m\u001b[1;33m\u001b[0m\u001b[1;33m\u001b[0m\u001b[0m\n",
      "\u001b[1;32md:\\Anaconda\\envs\\CSM\\lib\\site-packages\\tensorflow\\python\\client\\session.py\u001b[0m in \u001b[0;36m_do_call\u001b[1;34m(self, fn, *args)\u001b[0m\n\u001b[0;32m   1338\u001b[0m         \u001b[1;32mexcept\u001b[0m \u001b[0mKeyError\u001b[0m\u001b[1;33m:\u001b[0m\u001b[1;33m\u001b[0m\u001b[1;33m\u001b[0m\u001b[0m\n\u001b[0;32m   1339\u001b[0m           \u001b[1;32mpass\u001b[0m\u001b[1;33m\u001b[0m\u001b[1;33m\u001b[0m\u001b[0m\n\u001b[1;32m-> 1340\u001b[1;33m       \u001b[1;32mraise\u001b[0m \u001b[0mtype\u001b[0m\u001b[1;33m(\u001b[0m\u001b[0me\u001b[0m\u001b[1;33m)\u001b[0m\u001b[1;33m(\u001b[0m\u001b[0mnode_def\u001b[0m\u001b[1;33m,\u001b[0m \u001b[0mop\u001b[0m\u001b[1;33m,\u001b[0m \u001b[0mmessage\u001b[0m\u001b[1;33m)\u001b[0m\u001b[1;33m\u001b[0m\u001b[1;33m\u001b[0m\u001b[0m\n\u001b[0m\u001b[0;32m   1341\u001b[0m \u001b[1;33m\u001b[0m\u001b[0m\n\u001b[0;32m   1342\u001b[0m   \u001b[1;32mdef\u001b[0m \u001b[0m_extend_graph\u001b[0m\u001b[1;33m(\u001b[0m\u001b[0mself\u001b[0m\u001b[1;33m)\u001b[0m\u001b[1;33m:\u001b[0m\u001b[1;33m\u001b[0m\u001b[1;33m\u001b[0m\u001b[0m\n",
      "\u001b[1;31mResourceExhaustedError\u001b[0m: OOM when allocating tensor with shape[7,7,256,1024]\n\t [[Node: mrcnn1_class_conv1_6/random_uniform/RandomUniform = RandomUniform[T=DT_INT32, dtype=DT_FLOAT, seed=87654321, seed2=1268448, _device=\"/job:localhost/replica:0/task:0/cpu:0\"](mrcnn1_class_conv1_6/random_uniform/shape)]]\n\nCaused by op 'mrcnn1_class_conv1_6/random_uniform/RandomUniform', defined at:\n  File \"d:\\Anaconda\\envs\\CSM\\lib\\runpy.py\", line 193, in _run_module_as_main\n    \"__main__\", mod_spec)\n  File \"d:\\Anaconda\\envs\\CSM\\lib\\runpy.py\", line 85, in _run_code\n    exec(code, run_globals)\n  File \"d:\\Anaconda\\envs\\CSM\\lib\\site-packages\\ipykernel_launcher.py\", line 16, in <module>\n    app.launch_new_instance()\n  File \"d:\\Anaconda\\envs\\CSM\\lib\\site-packages\\traitlets\\config\\application.py\", line 664, in launch_instance\n    app.start()\n  File \"d:\\Anaconda\\envs\\CSM\\lib\\site-packages\\ipykernel\\kernelapp.py\", line 619, in start\n    self.io_loop.start()\n  File \"d:\\Anaconda\\envs\\CSM\\lib\\site-packages\\tornado\\platform\\asyncio.py\", line 199, in start\n    self.asyncio_loop.run_forever()\n  File \"d:\\Anaconda\\envs\\CSM\\lib\\asyncio\\base_events.py\", line 442, in run_forever\n    self._run_once()\n  File \"d:\\Anaconda\\envs\\CSM\\lib\\asyncio\\base_events.py\", line 1462, in _run_once\n    handle._run()\n  File \"d:\\Anaconda\\envs\\CSM\\lib\\asyncio\\events.py\", line 145, in _run\n    self._callback(*self._args)\n  File \"d:\\Anaconda\\envs\\CSM\\lib\\site-packages\\tornado\\ioloop.py\", line 688, in <lambda>\n    lambda f: self._run_callback(functools.partial(callback, future))\n  File \"d:\\Anaconda\\envs\\CSM\\lib\\site-packages\\tornado\\ioloop.py\", line 741, in _run_callback\n    ret = callback()\n  File \"d:\\Anaconda\\envs\\CSM\\lib\\site-packages\\tornado\\gen.py\", line 814, in inner\n    self.ctx_run(self.run)\n  File \"d:\\Anaconda\\envs\\CSM\\lib\\site-packages\\tornado\\gen.py\", line 162, in _fake_ctx_run\n    return f(*args, **kw)\n  File \"d:\\Anaconda\\envs\\CSM\\lib\\site-packages\\tornado\\gen.py\", line 775, in run\n    yielded = self.gen.send(value)\n  File \"d:\\Anaconda\\envs\\CSM\\lib\\site-packages\\ipykernel\\kernelbase.py\", line 361, in process_one\n    yield gen.maybe_future(dispatch(*args))\n  File \"d:\\Anaconda\\envs\\CSM\\lib\\site-packages\\tornado\\gen.py\", line 234, in wrapper\n    yielded = ctx_run(next, result)\n  File \"d:\\Anaconda\\envs\\CSM\\lib\\site-packages\\tornado\\gen.py\", line 162, in _fake_ctx_run\n    return f(*args, **kw)\n  File \"d:\\Anaconda\\envs\\CSM\\lib\\site-packages\\ipykernel\\kernelbase.py\", line 261, in dispatch_shell\n    yield gen.maybe_future(handler(stream, idents, msg))\n  File \"d:\\Anaconda\\envs\\CSM\\lib\\site-packages\\tornado\\gen.py\", line 234, in wrapper\n    yielded = ctx_run(next, result)\n  File \"d:\\Anaconda\\envs\\CSM\\lib\\site-packages\\tornado\\gen.py\", line 162, in _fake_ctx_run\n    return f(*args, **kw)\n  File \"d:\\Anaconda\\envs\\CSM\\lib\\site-packages\\ipykernel\\kernelbase.py\", line 541, in execute_request\n    user_expressions, allow_stdin,\n  File \"d:\\Anaconda\\envs\\CSM\\lib\\site-packages\\tornado\\gen.py\", line 234, in wrapper\n    yielded = ctx_run(next, result)\n  File \"d:\\Anaconda\\envs\\CSM\\lib\\site-packages\\tornado\\gen.py\", line 162, in _fake_ctx_run\n    return f(*args, **kw)\n  File \"d:\\Anaconda\\envs\\CSM\\lib\\site-packages\\ipykernel\\ipkernel.py\", line 302, in do_execute\n    res = shell.run_cell(code, store_history=store_history, silent=silent)\n  File \"d:\\Anaconda\\envs\\CSM\\lib\\site-packages\\ipykernel\\zmqshell.py\", line 539, in run_cell\n    return super(ZMQInteractiveShell, self).run_cell(*args, **kwargs)\n  File \"d:\\Anaconda\\envs\\CSM\\lib\\site-packages\\IPython\\core\\interactiveshell.py\", line 2855, in run_cell\n    raw_cell, store_history, silent, shell_futures)\n  File \"d:\\Anaconda\\envs\\CSM\\lib\\site-packages\\IPython\\core\\interactiveshell.py\", line 2881, in _run_cell\n    return runner(coro)\n  File \"d:\\Anaconda\\envs\\CSM\\lib\\site-packages\\IPython\\core\\async_helpers.py\", line 68, in _pseudo_sync_runner\n    coro.send(None)\n  File \"d:\\Anaconda\\envs\\CSM\\lib\\site-packages\\IPython\\core\\interactiveshell.py\", line 3058, in run_cell_async\n    interactivity=interactivity, compiler=compiler, result=result)\n  File \"d:\\Anaconda\\envs\\CSM\\lib\\site-packages\\IPython\\core\\interactiveshell.py\", line 3249, in run_ast_nodes\n    if (await self.run_code(code, result,  async_=asy)):\n  File \"d:\\Anaconda\\envs\\CSM\\lib\\site-packages\\IPython\\core\\interactiveshell.py\", line 3326, in run_code\n    exec(code_obj, self.user_global_ns, self.user_ns)\n  File \"<ipython-input-21-2970a0f7dcd2>\", line 11, in <module>\n    clasts = clasts_detection.clasts_detect(mode = mode, resolution = resolution, imgpath = imgpath, plot = False, saveplot = False, saveresults = False)\n  File \"c:\\MLGeo2022_Workspace\\ESS590_final_project\\Codes\\functions\\clasts_detection.py\", line 74, in clasts_detect\n    config=config)\n  File \"c:\\MLGeo2022_Workspace\\ESS590_final_project\\Codes\\mrcnn\\model.py\", line 2263, in __init__\n    self.keras_model = self.build(mode=mode, config=config)\n  File \"c:\\MLGeo2022_Workspace\\ESS590_final_project\\Codes\\mrcnn\\model.py\", line 2513, in build\n    fc_layers_size=config.FPN_CLASSIF_FC_LAYERS_SIZE)\n  File \"c:\\MLGeo2022_Workspace\\ESS590_final_project\\Codes\\mrcnn\\model.py\", line 1257, in fpn_classifier_graph1\n    name=\"mrcnn1_class_conv1\")(x)\n  File \"d:\\Anaconda\\envs\\CSM\\lib\\site-packages\\keras\\engine\\topology.py\", line 575, in __call__\n    self.build(input_shapes[0])\n  File \"d:\\Anaconda\\envs\\CSM\\lib\\site-packages\\keras\\layers\\wrappers.py\", line 158, in build\n    self.layer.build(child_input_shape)\n  File \"d:\\Anaconda\\envs\\CSM\\lib\\site-packages\\keras\\layers\\convolutional.py\", line 134, in build\n    constraint=self.kernel_constraint)\n  File \"d:\\Anaconda\\envs\\CSM\\lib\\site-packages\\keras\\legacy\\interfaces.py\", line 87, in wrapper\n    return func(*args, **kwargs)\n  File \"d:\\Anaconda\\envs\\CSM\\lib\\site-packages\\keras\\engine\\topology.py\", line 396, in add_weight\n    weight = K.variable(initializer(shape),\n  File \"d:\\Anaconda\\envs\\CSM\\lib\\site-packages\\keras\\initializers.py\", line 212, in __call__\n    dtype=dtype, seed=self.seed)\n  File \"d:\\Anaconda\\envs\\CSM\\lib\\site-packages\\keras\\backend\\tensorflow_backend.py\", line 3544, in random_uniform\n    dtype=dtype, seed=seed)\n  File \"d:\\Anaconda\\envs\\CSM\\lib\\site-packages\\tensorflow\\python\\ops\\random_ops.py\", line 240, in random_uniform\n    shape, dtype, seed=seed1, seed2=seed2)\n  File \"d:\\Anaconda\\envs\\CSM\\lib\\site-packages\\tensorflow\\python\\ops\\gen_random_ops.py\", line 247, in _random_uniform\n    seed=seed, seed2=seed2, name=name)\n  File \"d:\\Anaconda\\envs\\CSM\\lib\\site-packages\\tensorflow\\python\\framework\\op_def_library.py\", line 767, in apply_op\n    op_def=op_def)\n  File \"d:\\Anaconda\\envs\\CSM\\lib\\site-packages\\tensorflow\\python\\framework\\ops.py\", line 2630, in create_op\n    original_op=self._default_original_op, op_def=op_def)\n  File \"d:\\Anaconda\\envs\\CSM\\lib\\site-packages\\tensorflow\\python\\framework\\ops.py\", line 1204, in __init__\n    self._traceback = self._graph._extract_stack()  # pylint: disable=protected-access\n\nResourceExhaustedError (see above for traceback): OOM when allocating tensor with shape[7,7,256,1024]\n\t [[Node: mrcnn1_class_conv1_6/random_uniform/RandomUniform = RandomUniform[T=DT_INT32, dtype=DT_FLOAT, seed=87654321, seed2=1268448, _device=\"/job:localhost/replica:0/task:0/cpu:0\"](mrcnn1_class_conv1_6/random_uniform/shape)]]\n"
     ]
    }
   ],
   "source": [
    "# Arguments list\n",
    "mode = \"terrestrial\"\n",
    "devicemode = \"CPU\"    #Chose between GPU and CPU depending on your configuration. (see https://github.com/matterport/Mask_RCNN)\n",
    "devicenumber = 0      # Default value is 0 (i.e. first device in the list)\n",
    "\n",
    "resolution = 0.001\n",
    "\n",
    "#Detection & measurement operation\n",
    "for i in range(0, numboffiles[0]):\n",
    "    imgpath=os.path.join(terrestrialdirpath,filenames[i])\n",
    "    clasts = clasts_detection.clasts_detect(mode = mode, resolution = resolution, imgpath = imgpath, plot = False, saveplot = False, saveresults = False)\n",
    "\n",
    "# Detects and measure the clasts on a scaled image that can be either terrestrial (i.e. photograph of known resolution) or UAV derived (georeferenced ortho-image)\n",
    "# mode: \"terrestrial\", \"UAV\"\n",
    "# resolution: resolution of a terrestrial image (default = 0.001 m/pixel)\n",
    "# imgpath: full path of the image/ortho-image\n",
    "# metric_cropsize: Window size used for croping a UAV image into tiles (default = 1m)\n",
    "# plot: (boolean) Display detections and histograms\n",
    "# saveplot: (boolean) Save the detection and histogram figures\n",
    "# saveresults: (boolean) Save the clast sizes into a CSV file\n",
    "# devicemode: \"gpu\", \"cpu\" (default = \"gpu\") (see tesorflow-gpu documentation)\n",
    "# devicenumber: id number of the device to be used (default = 0)"
   ]
  },
  {
   "cell_type": "markdown",
   "metadata": {},
   "source": [
    "### On UAV-derived geotiff ortho-images"
   ]
  },
  {
   "cell_type": "code",
   "execution_count": null,
   "metadata": {},
   "outputs": [],
   "source": [
    "# List of image raster files to be analyzed\n",
    "# Files must be provided in a tif format using UTM or any other projected coordinate system allowing for metric measurements.\n",
    "filenames = [f for f in listdir(UAVdirpath) if isfile(join(UAVdirpath, f)) & (f[-4:]=='.tif')]\n",
    "numboffiles = np.shape(filenames)\n",
    "\n",
    "for i in range(0, numboffiles[0]):\n",
    "    print('[' + str(i) + '] ' + filenames[i])"
   ]
  },
  {
   "cell_type": "code",
   "execution_count": null,
   "metadata": {
    "scrolled": true
   },
   "outputs": [],
   "source": [
    "# Arguments list\n",
    "mode = \"UAV\"\n",
    "devicemode = \"CPU\"    # Chose between GPU and CPU depending on your configuration. (see https://github.com/matterport/Mask_RCNN)\n",
    "devicenumber = 1\n",
    "metric_cropsize = 1   # Larger values compute faster but are likely to provide lower numbers of detections.\n",
    "                      # 1 m is an empirically proven good value for clast of pebble size.\n",
    "kstart = 0\n",
    "ksaveint = 25\n",
    "\n",
    "#Detection & measurement operation\n",
    "for i in range(0, numboffiles[0]):\n",
    "    imgpath = os.path.join(UAVdirpath,filenames[i]) #path of each image to be analyzed\n",
    "    clasts_list = clasts_detection.clasts_detect(mode = mode, \n",
    "                                                 metric_cropsize = metric_cropsize, \n",
    "                                                 imgpath = imgpath, \n",
    "                                                 plot = False, \n",
    "                                                 saveplot = False, \n",
    "                                                 saveresults = True, \n",
    "                                                 devicemode = devicemode, \n",
    "                                                 devicenumber = devicenumber, \n",
    "                                                 kstart = kstart, \n",
    "                                                 ksaveint = ksaveint)\n",
    "\n",
    "# Detects and measures the clasts on a scaled image that can be either terrestrial (i.e. photograph of known resolution) or UAV derived (georeferenced ortho-image)\n",
    "# mode: \"terrestrial\", \"UAV\"\n",
    "# resolution: resolution of a terrestrial image (default = 0.001 m/pixel)\n",
    "# imgpath: full path of the image/ortho-image\n",
    "# metric_cropsize: Window size used for croping a UAV image into tiles (default = 1m)\n",
    "# plot: (boolean) Display detections and histograms\n",
    "# saveplot: (boolean) Save the detection and histogram figures\n",
    "# saveresults: (boolean) Save the clast sizes into a CSV file\n",
    "# devicemode: \"gpu\", \"cpu\" (default = \"gpu\") (see tesorflow-gpu documentation)\n",
    "# devicenumber: id number of the device to be used (default = 0)\n",
    "# kstart: Starting itteration step, (in case of resuming a previously stopped processing)(default = 0)\n",
    "# ksaveint: Intervalle step between 2 checkpoint saving (default = 1%)"
   ]
  },
  {
   "cell_type": "markdown",
   "metadata": {},
   "source": [
    "## Post-Processing Rasterization"
   ]
  },
  {
   "cell_type": "code",
   "execution_count": null,
   "metadata": {},
   "outputs": [],
   "source": [
    "# Paths to the different files required for rasterization\n",
    "ClastImageFilePath = os.path.join(UAVdirpath, 'example_n1_of_UAV_ortho_image.tif')\n",
    "ClastFileName = 'example_n1_of_UAV_ortho_image_window_size=1m_individual_clast_values.csv'\n",
    "ClastSizeListCSVFilePath = os.path.join(UAVdirpath, ClastFileName)\n",
    "\n",
    "# Arguments list\n",
    "field = 'Clast_length'\n",
    "parameter='average'\n",
    "cellsize=1\n",
    "percentile=0.5\n",
    "plot=False\n",
    "figuresize = (15,20)\n",
    "if parameter=='quantile':\n",
    "    paramname='D'+str(int(percentile*100))\n",
    "else:\n",
    "    paramname=parameter\n",
    "RasterFileWritingPath = os.path.join(UAVdirpath, ClastFileName[:-4]+'_field='+field+'_parameter='+paramname+'_cellsize='+str(cellsize)+'m.tif')\n",
    "\n",
    "#Rasterization operation\n",
    "clasts_raster = clasts_rasterize.clasts_rasterize(ClastImageFilePath, \n",
    "                                                  ClastSizeListCSVFilePath, \n",
    "                                                  RasterFileWritingPath, \n",
    "                                                  field, \n",
    "                                                  parameter, \n",
    "                                                  cellsize, \n",
    "                                                  percentile, \n",
    "                                                  plot, \n",
    "                                                  figuresize)\n",
    "\n",
    "#     Converts the clast information from vector type to raster type.\n",
    "#     ClastImageFilePath: Path of the geotiff file used to realize the clast detection and measurement\n",
    "#     ClastSizeListCSVFilePath: Path of the CSV file containing the list of previously detected and measured clasts\n",
    "#     RasterFileWritingPath: Path to be used for writing the raster produced by the present function\n",
    "#     field: field (i.e. clast dimension) to be considered for computation (default = \"Clast_length\"):\n",
    "#         - Clast_length\n",
    "#         - Clast_width\n",
    "#         - Ellipse_major_axis\n",
    "#         - Ellipse_minor_axis\n",
    "#         - Equivalent_diameter\n",
    "#         - Score\n",
    "#         - Orientation\n",
    "#         - Surface_area\n",
    "#         - Clast_elongation\n",
    "#         - Ellipse_elongation\n",
    "#         - Clast_circularity\n",
    "#         - Ellipse_circularity\n",
    "#         - Deposition_velocity: Current velocity (m/s) related to the clast deposition according to Hjulström's diagram #DOI: 10.1115/OMAE2013-10524\n",
    "#         - Erosion_velocity: Current velocity (m/s) required in order to mobilize the clast according to Hjulström's diagram #DOI: 10.1115/OMAE2013-10524\n",
    "#     parameter: Parameter to be computed for each cell: \n",
    "#         - \"quantile\": returns the quantile valued for the threshold specified by the \"percentile\" keyword \n",
    "#         - \"density\": returns the density of objects per cell size unit\n",
    "#         - \"average\": returns the average value for each cell\n",
    "#         - \"std\": returns the standard deviation for each cell\n",
    "#         - \"kurtosis\": returns the kurtosis size for each cell\n",
    "#         - \"skewness\": returns the skewness value for each cell\n",
    "#     cellsize: Wanted output raster cell size (same unit as the geotiff file used to realize the clast detection and measurement\n",
    "#     percentile: Percentile to be used for computing the quantile of each cell (default = 0.5, i.e. median)\n",
    "#     plot: Switch for displaying the produced maps (default = True)\n",
    "#     figuresize: Size of the displayed figure (default = (10,10))"
   ]
  }
 ],
 "metadata": {
  "kernelspec": {
   "display_name": "Python 3.6.13 ('CSM')",
   "language": "python",
   "name": "python3"
  },
  "language_info": {
   "codemirror_mode": {
    "name": "ipython",
    "version": 3
   },
   "file_extension": ".py",
   "mimetype": "text/x-python",
   "name": "python",
   "nbconvert_exporter": "python",
   "pygments_lexer": "ipython3",
   "version": "3.6.13"
  },
  "vscode": {
   "interpreter": {
    "hash": "63996259c2caeb27a8809699be2bcddc13de141a9ebce186185e61168860b43c"
   }
  }
 },
 "nbformat": 4,
 "nbformat_minor": 2
}
